{
 "cells": [
  {
   "cell_type": "markdown",
   "metadata": {},
   "source": [
    "# chapter 19: Programming challenges for section 4"
   ]
  },
  {
   "cell_type": "markdown",
   "metadata": {},
   "source": [
    "Program 46"
   ]
  },
  {
   "cell_type": "code",
   "execution_count": 3,
   "metadata": {},
   "outputs": [
    {
     "name": "stdout",
     "output_type": "stream",
     "text": [
      "Mountain Bike\n",
      "Ski Jacket\n",
      "Electric Guitar\n",
      "PS3 - 500Gb\n",
      "Badminton Racquet\n"
     ]
    }
   ],
   "source": [
    "sales=[\"Mountain Bike\", \"Ski Jacket\", \"Electric Guitar\",\"PS3 - 500Gb\",\"Badminton Racquet\"]\n",
    "for i in range(5):\n",
    " print(sales[i])"
   ]
  },
  {
   "cell_type": "markdown",
   "metadata": {},
   "source": [
    "Program 47"
   ]
  },
  {
   "cell_type": "code",
   "execution_count": 4,
   "metadata": {},
   "outputs": [
    {
     "name": "stdout",
     "output_type": "stream",
     "text": [
      "Mountain Bike - £200\n",
      "Ski Jacket - £67\n",
      "Electric Guitar - £330\n",
      "PS3 - 500Gb - £120\n",
      "Badminton Racquet - £15\n"
     ]
    }
   ],
   "source": [
    "sales=[\"Mountain Bike\", \"Ski Jacket\", \"Electric Guitar\",\"PS3 - 500Gb\",\"Badminton Racquet\"]\n",
    "price=[\"£200\",\"£67\",\"£330\",\"£120\",\"£15\"]\n",
    "for i in range(5):\n",
    " print(sales[i],\"-\",price[i])"
   ]
  },
  {
   "cell_type": "markdown",
   "metadata": {},
   "source": [
    "Program 48"
   ]
  },
  {
   "cell_type": "code",
   "execution_count": 10,
   "metadata": {},
   "outputs": [
    {
     "name": "stdout",
     "output_type": "stream",
     "text": [
      "Please enter the score for each ball.\n",
      "0\n",
      "2\n",
      "0\n",
      "0\n",
      "4\n",
      "6\n",
      "\n",
      "\n",
      "This over's score was: 12\n",
      "With each ball scoring:\n",
      "\n",
      "0\n",
      "2\n",
      "0\n",
      "0\n",
      "4\n",
      "6\n"
     ]
    }
   ],
   "source": [
    "total=0\n",
    "print(\"Please enter the score for each ball.\")\n",
    "score=[\"\"]*6\n",
    "for i in range(6):\n",
    "    score[i]=int(input())\n",
    "    total=total+score[i]\n",
    "print(\"\\n\")\n",
    "print(\"This over's score was:\",total)\n",
    "print(\"With each ball scoring:\\n\")\n",
    "for i in range(6):\n",
    " print(score[i])"
   ]
  },
  {
   "cell_type": "markdown",
   "metadata": {},
   "source": [
    " Program 49"
   ]
  },
  {
   "cell_type": "code",
   "execution_count": 2,
   "metadata": {},
   "outputs": [
    {
     "name": "stdout",
     "output_type": "stream",
     "text": [
      "Please enter a name:\n",
      "Jean Gray\n",
      "Please enter Jean Gray's age:\n",
      "13\n",
      "Please enter a name:\n",
      "Max Eisenhardt\n",
      "Please enter Max Eisenhardt's age:\n",
      "24\n",
      "Please enter a name:\n",
      "James Howlett\n",
      "Please enter James Howlett's age:\n",
      "15\n",
      "Please enter a name:\n",
      "Aleksy Nowak\n",
      "Please enter Aleksy Nowak's age:\n",
      "9\n",
      "Names and competition lists:\n",
      "\n",
      "Jean Gray - Teen\n",
      "Max Eisenhardt - Senior\n",
      "James Howlett - Teen\n",
      "Aleksy Nowak - Junior\n"
     ]
    }
   ],
   "source": [
    "name=[\"\"]*4\n",
    "cat=[\"\"]*4\n",
    "age=[0]*4\n",
    "for i in range(4):\n",
    "    name[i]=str(input(\"Please enter a name:\\n\"))\n",
    "    age[i]=int(input(\"Please enter \"+name[i]+\"'s age:\\n\"))\n",
    "    if age[i]<12:\n",
    "        cat[i]=\"Junior\"\n",
    "    elif age[i]>12 and age[i]<18:\n",
    "        cat[i]=\"Teen\"\n",
    "    else :\n",
    "        cat[i]=\"Senior\"\n",
    "\n",
    "print(\"Names and competition lists:\\n\")\n",
    "for i in range(4):\n",
    "    print(name[i],\"-\",cat[i])\n",
    "    "
   ]
  },
  {
   "cell_type": "markdown",
   "metadata": {},
   "source": [
    "Program 50"
   ]
  },
  {
   "cell_type": "code",
   "execution_count": 3,
   "metadata": {},
   "outputs": [
    {
     "name": "stdout",
     "output_type": "stream",
     "text": [
      "Please enter the details of your horse.\n",
      "\n",
      "Maximum height:\n",
      "16\n",
      "Maximum age:\n",
      "15\n",
      "Black beauty , 14 years, 15 hands\n",
      "Francine , 8 years, 14 hands\n",
      "Langrish , 15 years, 14 hands\n"
     ]
    }
   ],
   "source": [
    "name=[\"Black beauty\",\"Francine\",\"Langrish\"]\n",
    "age=[14,8,15]\n",
    "height=[15,14,14]\n",
    "print(\"Please enter the details of your horse.\\n\")\n",
    "h=int(input(\"Maximum height:\\n\"))\n",
    "a=int(input(\"Maximum age:\\n\"))\n",
    "for i in range(len(name)):\n",
    "    if age[i]<=a and height[i]<=h:\n",
    "        print(name[i],\",\",age[i],\"years,\",height[i],\"hands\")"
   ]
  },
  {
   "cell_type": "markdown",
   "metadata": {},
   "source": [
    "Program 51"
   ]
  },
  {
   "cell_type": "code",
   "execution_count": 3,
   "metadata": {},
   "outputs": [
    {
     "name": "stdout",
     "output_type": "stream",
     "text": [
      "Whos going?\n",
      "Melissa?\n",
      "y\n",
      "Evelyn?\n",
      "y\n",
      "Emmy?\n",
      "n\n",
      "Karen?\n",
      "n\n",
      "Norma?\n",
      "y\n",
      "Dorek?\n",
      "y\n",
      "Agnes?\n",
      "n\n",
      "Billy?\n",
      "y\n",
      "Gawet?\n",
      "y\n",
      "Arthur?\n",
      "n\n",
      "Party Attendance List:\n",
      "Melissa\n",
      "Evelyn\n",
      "Norma\n",
      "Dorek\n",
      "Billy\n",
      "Gawet\n"
     ]
    }
   ],
   "source": [
    "guest=[\"Melissa\",\"Evelyn\",\"Emmy\",\"Karen\",\"Norma\",\"Dorek\",\"Agnes\",\"Billy\",\"Gawet\",\"Arthur\"]\n",
    "ans=[\"\"]*10\n",
    "print(\"Whos going?\")\n",
    "for i in range(len(guest)):\n",
    "    ans[i]=str(input(guest[i]+\"?\\n\"))\n",
    "\n",
    "print(\"Party Attendance List:\")\n",
    "for i in range(len(guest)):\n",
    "    if ans[i]==\"y\" or ans[i]==\"Y\":\n",
    "        print(guest[i])\n",
    "    "
   ]
  },
  {
   "cell_type": "markdown",
   "metadata": {},
   "source": [
    "Program 52"
   ]
  },
  {
   "cell_type": "code",
   "execution_count": 5,
   "metadata": {},
   "outputs": [
    {
     "name": "stdout",
     "output_type": "stream",
     "text": [
      "House floor area calculator.\n",
      "Please enter the number of rooms:\n",
      "3\n",
      "Please enter the name of room 1:Lounge\n",
      "Please enter the length(m) of room 1:3.56\n",
      "Please enter the width(m) of room 1:4.7\n",
      "Please enter the name of room 2:Kitchen\n",
      "Please enter the length(m) of room 2:2.26\n",
      "Please enter the width(m) of room 2:3.69\n",
      "Please enter the name of room 3:Bedroom\n",
      "Please enter the length(m) of room 3:4.5\n",
      "Please enter the width(m) of room 3:4.7\n",
      "House details:\n",
      "Room - Lounge\n",
      "16.7 metres squared\n",
      "Room - Kitchen\n",
      "8.3 metres squared\n",
      "Room - Bedroom\n",
      "21.2 metres squared\n",
      "The total area is calculated as :\n",
      "46.2 metred squared\n"
     ]
    }
   ],
   "source": [
    "total=0\n",
    "print(\"House floor area calculator.\")\n",
    "n=int(input(\"Please enter the number of rooms:\\n\"))\n",
    "name=[\"\"]*n\n",
    "length=[0]*n\n",
    "wid=[0]*n\n",
    "area=[0]*n\n",
    "for i in range(n):\n",
    "    name[i]=str(input(\"Please enter the name of room \"+str(i+1)+\":\"))\n",
    "    length[i]=float(input(\"Please enter the length(m) of room \"+str(i+1)+\":\"))\n",
    "    wid[i]=float(input(\"Please enter the width(m) of room \"+str(i+1)+\":\"))\n",
    "    area[i]=length[i]*wid[i]\n",
    "    total=total+area[i]\n",
    "print(\"House details:\")\n",
    "for i in range(n):\n",
    "  print(\"Room -\",name[i])\n",
    "  print(round(area[i],1),\"metres squared\")\n",
    "print(\"The total area is calculated as :\")\n",
    "print(round(total,1),\"metred squared\")"
   ]
  },
  {
   "cell_type": "markdown",
   "metadata": {},
   "source": [
    "Program 53"
   ]
  },
  {
   "cell_type": "code",
   "execution_count": 18,
   "metadata": {},
   "outputs": [
    {
     "name": "stdout",
     "output_type": "stream",
     "text": [
      "How many members have requested a seat?\n",
      "\n",
      "None5\n",
      "Please enter your name.\n",
      "Hubab\n",
      "Which row would you like to sit in?\n",
      "2\n",
      "Which seat number would you like to sit in?\n",
      "3\n",
      "Thank you,your name has been added.\n",
      "Please enter your name.\n",
      "Denzell\n",
      "Which row would you like to sit in?\n",
      "2\n",
      "Which seat number would you like to sit in?\n",
      "1\n",
      "Thank you,your name has been added.\n",
      "Please enter your name.\n",
      "Jessica\n",
      "Which row would you like to sit in?\n",
      "3\n",
      "Which seat number would you like to sit in?\n",
      "1\n",
      "Thank you,your name has been added.\n",
      "Please enter your name.\n",
      "Talisha\n",
      "Which row would you like to sit in?\n",
      "4\n",
      "Which seat number would you like to sit in?\n",
      "3\n",
      "Thank you,your name has been added.\n",
      "Please enter your name.\n",
      "Andrew\n",
      "Which row would you like to sit in?\n",
      "5\n",
      "Which seat number would you like to sit in?\n",
      "4\n",
      "Thank you,your name has been added.\n",
      "Bus seats have been booked as follows:\n",
      "0.  Empty   Empty   Empty   Empty \n",
      "1.  Denzell   Empty   Hubab   Empty \n",
      "2.  Jessica   Empty   Empty   Empty \n",
      "3.  Empty   Empty   Talisha   Empty \n",
      "4.  Empty   Empty   Empty   Andrew \n"
     ]
    }
   ],
   "source": [
    "n=int(input(print(\"How many members have requested a seat?\\n\")))\n",
    "name=[\"\"]*n\n",
    "r=[0]*n\n",
    "c=[0]*n\n",
    "seats=[[\"Empty\"]*4 for main in range(5)]\n",
    "for i in range(n):\n",
    "    name[i]=str(input(\"Please enter your name.\\n\"))\n",
    "    r[i]=int(input(\"Which row would you like to sit in?\\n\"))\n",
    "    c[i]=int(input(\"Which seat number would you like to sit in?\\n\"))\n",
    "    seats[r[i]-1][c[i]-1]=name[i]\n",
    "    print(\"Thank you,your name has been added.\")\n",
    "print(\"Bus seats have been booked as follows:\")\n",
    "\n",
    "for i in range(5):\n",
    "    print(str(i)+\".\",end='')\n",
    "    for j in range(4):\n",
    "        print(\" \",seats[i][j],\"\",end='')\n",
    "    print()\n",
    "\n"
   ]
  },
  {
   "cell_type": "markdown",
   "metadata": {},
   "source": [
    "Program 54"
   ]
  },
  {
   "cell_type": "code",
   "execution_count": 2,
   "metadata": {},
   "outputs": [
    {
     "name": "stdout",
     "output_type": "stream",
     "text": [
      "Please enter the number of weeds counted at 1,1:3\n",
      "Please enter the number of weeds counted at 1,2:0\n",
      "Please enter the number of weeds counted at 1,3:2\n",
      "Please enter the number of weeds counted at 1,4:2\n",
      "Please enter the number of weeds counted at 1,5:0\n",
      "Please enter the number of weeds counted at 2,1:0\n",
      "Please enter the number of weeds counted at 2,2:0\n",
      "Please enter the number of weeds counted at 2,3:0\n",
      "Please enter the number of weeds counted at 2,4:3\n",
      "Please enter the number of weeds counted at 2,5:2\n",
      "Please enter the number of weeds counted at 3,1:0\n",
      "Please enter the number of weeds counted at 3,2:10\n",
      "Please enter the number of weeds counted at 3,3:6\n",
      "Please enter the number of weeds counted at 3,4:5\n",
      "Please enter the number of weeds counted at 3,5:0\n",
      "Please enter the number of weeds counted at 4,1:1\n",
      "Please enter the number of weeds counted at 4,2:1\n",
      "Please enter the number of weeds counted at 4,3:2\n",
      "Please enter the number of weeds counted at 4,4:2\n",
      "Please enter the number of weeds counted at 4,5:7\n",
      "Please enter the number of weeds counted at 5,1:0\n",
      "Please enter the number of weeds counted at 5,2:0\n",
      "Please enter the number of weeds counted at 5,3:5\n",
      "Please enter the number of weeds counted at 5,4:3\n",
      "Please enter the number of weeds counted at 5,5:2\n",
      "The results are shown below:\n",
      "\n",
      "3 0 2 2 0 \n",
      "0 0 0 3 2 \n",
      "0 10 6 5 0 \n",
      "1 1 2 2 7 \n",
      "0 0 5 3 2 \n",
      "The total number of weeds found was - 56\n"
     ]
    }
   ],
   "source": [
    "weed=[[0]*5 for main in range(5)]\n",
    "total=0\n",
    "for i in range(5):\n",
    "    for j in range(5):\n",
    "        weed[i][j]=int(input(\"Please enter the number of weeds counted at \"+str(i+1)+\",\"+str(j+1)+\":\"))\n",
    "        total=total+weed[i][j]\n",
    "\n",
    "print(\"The results are shown below:\\n\")\n",
    "for i in range(5):\n",
    "    for j in range(5):\n",
    "        print(weed[i][j],\"\",end='')\n",
    "    print()\n",
    "    \n",
    "print(\"The total number of weeds found was\",\"-\",total)"
   ]
  },
  {
   "cell_type": "markdown",
   "metadata": {},
   "source": [
    "Program 55"
   ]
  },
  {
   "cell_type": "code",
   "execution_count": 20,
   "metadata": {},
   "outputs": [
    {
     "name": "stdout",
     "output_type": "stream",
     "text": [
      "Please enter over 1 for Team 1\n",
      "1\n",
      "1\n",
      "1\n",
      "1\n",
      "1\n",
      "1\n",
      "Please enter over 2 for Team 1\n",
      "1\n",
      "1\n",
      "1\n",
      "1\n",
      "1\n",
      "1\n",
      "Please enter over 3 for Team 1\n",
      "1\n",
      "1\n",
      "1\n",
      "1\n",
      "1\n",
      "1\n",
      "Please enter over 1 for Team 2\n",
      "2\n",
      "2\n",
      "2\n",
      "2\n",
      "2\n",
      "2\n",
      "Please enter over 2 for Team 2\n",
      "2\n",
      "2\n",
      "2\n",
      "2\n",
      "2\n",
      "2\n",
      "Please enter over 3 for Team 2\n",
      "2\n",
      "2\n",
      "2\n",
      "2\n",
      "2\n",
      "2\n",
      "Score for Team 1 's three overs:\n",
      " 18\n",
      "Score for Team 2 's three overs:\n",
      " 36\n",
      "Team 2 won the match.\n",
      "Do you wish to calculate the result of another game?\n",
      "n\n"
     ]
    }
   ],
   "source": [
    "\n",
    "over=[[0]*6 for main in range(3)]\n",
    "total=[0]*2\n",
    "ans=\"y\"\n",
    "while ans==\"y\" or ans==\"Y\" :\n",
    "    for k in range(2):\n",
    "        for i in range(3):\n",
    "            print(\"Please enter over\",i+1,\"for Team\",k+1)\n",
    "            for j in range(6):\n",
    "                over[i][j]=int(input())\n",
    "                total[k]=total[k]+over[i][j]\n",
    "\n",
    "            \n",
    "    for k in range(2):\n",
    "        print(\"Score for Team\",k+1,\"'s three overs:\\n\",total[k])\n",
    "    if total[0]>total[1]:\n",
    "        print(\"Team 1 won the match.\")\n",
    "    else:\n",
    "        print(\"Team 2 won the match.\")\n",
    "    ans=\"n\"\n",
    "ans=str(input(\"Do you wish to calculate the result of another game?\\n\"))\n",
    "\n",
    "\n",
    "  "
   ]
  },
  {
   "cell_type": "markdown",
   "metadata": {},
   "source": [
    " "
   ]
  }
 ],
 "metadata": {
  "kernelspec": {
   "display_name": "Python 3",
   "language": "python",
   "name": "python3"
  },
  "language_info": {
   "codemirror_mode": {
    "name": "ipython",
    "version": 3
   },
   "file_extension": ".py",
   "mimetype": "text/x-python",
   "name": "python",
   "nbconvert_exporter": "python",
   "pygments_lexer": "ipython3",
   "version": "3.7.7"
  }
 },
 "nbformat": 4,
 "nbformat_minor": 4
}
